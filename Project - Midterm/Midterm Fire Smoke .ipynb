{
 "cells": [
  {
   "cell_type": "code",
   "execution_count": 1,
   "metadata": {
    "id": "KpA0EP3_3hGb"
   },
   "outputs": [],
   "source": [
    "# Import additional libraries if you need\n",
    "%matplotlib inline\n",
    "import numpy as np\n",
    "import matplotlib.pylab as plt\n",
    "import tensorflow as tf\n",
    "from tensorflow.keras.models import *\n",
    "from tensorflow.keras.layers import *\n",
    "from tensorflow.keras.preprocessing.image import ImageDataGenerator\n",
    "from tensorflow.keras.applications.resnet50 import preprocess_input\n",
    "from tensorflow.keras.optimizers import *\n",
    "from tensorflow.keras.applications import VGG16\n",
    "from tensorflow.keras.applications import ResNet50\n",
    "\n",
    "#physical_devices = tf.config.experimental.list_physical_devices('GPU')\n",
    "#tf.config.experimental.set_memory_growth(physical_devices[0], True)"
   ]
  },
  {
   "cell_type": "code",
   "execution_count": 2,
   "metadata": {
    "id": "Y6kPcTQm3hG-"
   },
   "outputs": [],
   "source": [
    "IMG_SIZE = 224\n",
    "NUM_EPOCHS = 100\n",
    "NUM_CLASSES = 3\n",
    "TRAIN_BATCH_SIZE = 32\n",
    "TEST_BATCH_SIZE = 32"
   ]
  },
  {
   "cell_type": "code",
   "execution_count": 3,
   "metadata": {
    "id": "DxURDn1-3hHE",
    "outputId": "fb11cf41-d6e2-4a52-b431-872a5669a912"
   },
   "outputs": [
    {
     "name": "stdout",
     "output_type": "stream",
     "text": [
      "Found 693 images belonging to 3 classes.\n",
      "Found 171 images belonging to 3 classes.\n"
     ]
    }
   ],
   "source": [
    "data_generator_with_aug = ImageDataGenerator(preprocessing_function=preprocess_input,\n",
    "                                width_shift_range=0.1,\n",
    "                                height_shift_range=0.1,\n",
    "                                #sear_range=0.01,\n",
    "                                zoom_range=[0.9, 1.25],\n",
    "                                horizontal_flip=True,\n",
    "                                vertical_flip=False,\n",
    "                                data_format='channels_last',\n",
    "                                brightness_range=[0.5, 1.5]\n",
    "                               )\n",
    "                                       \n",
    "train_generator = data_generator_with_aug.flow_from_directory(\n",
    "            'data/img_data/train',\n",
    "            target_size=(IMG_SIZE, IMG_SIZE),\n",
    "            batch_size=TRAIN_BATCH_SIZE,\n",
    "            class_mode='categorical')\n",
    "    \n",
    "   \n",
    "validation_generator = data_generator_with_aug.flow_from_directory(\n",
    "            'data/img_data/test',\n",
    "            target_size=(IMG_SIZE, IMG_SIZE),\n",
    "            batch_size=TEST_BATCH_SIZE,\n",
    "            shuffle = False,\n",
    "            class_mode='categorical')"
   ]
  },
  {
   "cell_type": "code",
   "execution_count": 4,
   "metadata": {
    "id": "K71dmlg_3hHQ"
   },
   "outputs": [],
   "source": [
    "model_name_vgg16 = \"vgg16.h5\"\n",
    "\n",
    "# define your callbacks\n",
    "# remember that you need to save the weights of your best model!\n",
    "early_stop = tf.keras.callbacks.EarlyStopping(monitor='val_loss', patience = 20)\n",
    "\n",
    "monitor = tf.keras.callbacks.ModelCheckpoint(model_name_vgg16, monitor='val_loss',\\\n",
    "                                             verbose=0,save_best_only=True,\\\n",
    "                                             save_weights_only=True,\\\n",
    "                                             mode='min')\n",
    "# Learning rate schedule\n",
    "def scheduler(epoch, lr):\n",
    "    if epoch%4 == 0 and epoch!= 0:\n",
    "        lr = lr/2\n",
    "    return lr\n",
    "\n",
    "lr_schedule = tf.keras.callbacks.LearningRateScheduler(scheduler,verbose = 0)"
   ]
  },
  {
   "cell_type": "code",
   "execution_count": 5,
   "metadata": {
    "id": "d5L-Ir0r3hHS"
   },
   "outputs": [],
   "source": [
    "def vgg16_pretrained(lr=1e-3):\n",
    "    my_new_model = Sequential()\n",
    "    vgg_weights_path = 'vgg16_weights_tf_dim_ordering_tf_kernels_notop.h5'\n",
    "    vgg= VGG16(include_top=False, weights=vgg_weights_path ) \n",
    "    vgg.summary()\n",
    "    my_new_model.add(vgg)\n",
    "    my_new_model.add(GlobalAveragePooling2D())\n",
    "    my_new_model.layers[0].trainable = False\n",
    "    my_new_model.layers[1].trainable = False\n",
    "    #my_new_model.add(Dense(4096, activation='relu'))  \n",
    "    my_new_model.add(Dense(4096, activation='relu'))\n",
    "    my_new_model.add(Dense(1000, activation='relu'))      \n",
    "    my_new_model.add(Dense(NUM_CLASSES, activation='softmax'))\n",
    "    my_new_model.compile(optimizer = Adam(learning_rate=lr), loss='categorical_crossentropy', metrics = [\"accuracy\"])\n",
    "    return my_new_model"
   ]
  },
  {
   "cell_type": "code",
   "execution_count": 6,
   "metadata": {},
   "outputs": [],
   "source": [
    "def resnet50_pretrained(lr=1e-3):\n",
    "    my_new_model = Sequential()\n",
    "    \n",
    "    resnet = ResNet50(include_top=False, pooling='avg', weights=resnet_weights_path)\n",
    "    my_new_model.add(resnet)\n",
    "    my_new_model.layers[0].trainable = False\n",
    "    my_new_model.add(Dense(1000, activation='relu'))      \n",
    "    my_new_model.add(Dense(NUM_CLASSES, activation='softmax'))"
   ]
  },
  {
   "cell_type": "code",
   "execution_count": 7,
   "metadata": {
    "id": "FIJrOx8k3hHU"
   },
   "outputs": [],
   "source": [
    "def vgg16(ishape=(IMG_SIZE,IMG_SIZE,3), drop=0.1, lr=1e-3):\n",
    "    out_layers = 64\n",
    "    input_img = Input(shape=ishape)\n",
    "    x = Conv2D(out_layers, (3,3), activation=\"relu\", padding=\"same\")(input_img)\n",
    "    x = Conv2D(out_layers, (3,3), activation=\"relu\", padding=\"same\")(x)\n",
    "    x = MaxPooling2D()(x)\n",
    "    x = Conv2D(out_layers*2, (3,3), activation=\"relu\", padding=\"same\")(x)\n",
    "    x = Conv2D(out_layers*2, (3,3), activation=\"relu\", padding=\"same\")(x)\n",
    "    x = MaxPooling2D()(x)\n",
    "    x = Conv2D(out_layers*4, (3,3), activation=\"relu\", padding=\"same\")(x)\n",
    "    x = Conv2D(out_layers*4, (3,3), activation=\"relu\", padding=\"same\")(x)\n",
    "    x = Conv2D(out_layers*4, (3,3), activation=\"relu\", padding=\"same\")(x)\n",
    "    x = MaxPooling2D()(x)\n",
    "    x = Conv2D(out_layers*8, (3,3), activation=\"relu\", padding=\"same\")(x)\n",
    "    x = Conv2D(out_layers*8, (3,3), activation=\"relu\", padding=\"same\")(x)\n",
    "    x = Conv2D(out_layers*8, (3,3), activation=\"relu\", padding=\"same\")(x)\n",
    "    x = MaxPooling2D()(x)\n",
    "    x = Conv2D(out_layers*8, (3,3), activation=\"relu\", padding=\"same\")(x)\n",
    "    x = Conv2D(out_layers*8, (3,3), activation=\"relu\", padding=\"same\")(x)\n",
    "    x = Conv2D(out_layers*8, (3,3), activation=\"relu\", padding=\"same\")(x)\n",
    "    x = MaxPooling2D()(x)\n",
    "    x = GlobalMaxPooling2D()(x)\n",
    "    #x = Dense(4096, activation=\"relu\")(x)\n",
    "    x = Dropout(rate=drop)(x)\n",
    "    x = Dense(4096, activation=\"relu\")(x)\n",
    "    x = Dropout(rate=drop)(x)\n",
    "    x = Dense(1000, activation=\"relu\")(x)\n",
    "    x = Dropout(rate=drop)(x)\n",
    "    x = Dense(NUM_CLASSES, activation=\"softmax\")(x)\n",
    "    model = Model(inputs=input_img, outputs=x)\n",
    "    model.compile(optimizer = Adam(learning_rate=lr), loss='categorical_crossentropy', metrics = [\"accuracy\"])\n",
    "    return model"
   ]
  },
  {
   "cell_type": "code",
   "execution_count": 8,
   "metadata": {
    "id": "WX7HF69p3hHY",
    "outputId": "6f004bec-e52e-4d4f-9f61-36feb192f8d0"
   },
   "outputs": [
    {
     "name": "stdout",
     "output_type": "stream",
     "text": [
      "Model: \"vgg16\"\n",
      "_________________________________________________________________\n",
      "Layer (type)                 Output Shape              Param #   \n",
      "=================================================================\n",
      "input_1 (InputLayer)         [(None, None, None, 3)]   0         \n",
      "_________________________________________________________________\n",
      "block1_conv1 (Conv2D)        (None, None, None, 64)    1792      \n",
      "_________________________________________________________________\n",
      "block1_conv2 (Conv2D)        (None, None, None, 64)    36928     \n",
      "_________________________________________________________________\n",
      "block1_pool (MaxPooling2D)   (None, None, None, 64)    0         \n",
      "_________________________________________________________________\n",
      "block2_conv1 (Conv2D)        (None, None, None, 128)   73856     \n",
      "_________________________________________________________________\n",
      "block2_conv2 (Conv2D)        (None, None, None, 128)   147584    \n",
      "_________________________________________________________________\n",
      "block2_pool (MaxPooling2D)   (None, None, None, 128)   0         \n",
      "_________________________________________________________________\n",
      "block3_conv1 (Conv2D)        (None, None, None, 256)   295168    \n",
      "_________________________________________________________________\n",
      "block3_conv2 (Conv2D)        (None, None, None, 256)   590080    \n",
      "_________________________________________________________________\n",
      "block3_conv3 (Conv2D)        (None, None, None, 256)   590080    \n",
      "_________________________________________________________________\n",
      "block3_pool (MaxPooling2D)   (None, None, None, 256)   0         \n",
      "_________________________________________________________________\n",
      "block4_conv1 (Conv2D)        (None, None, None, 512)   1180160   \n",
      "_________________________________________________________________\n",
      "block4_conv2 (Conv2D)        (None, None, None, 512)   2359808   \n",
      "_________________________________________________________________\n",
      "block4_conv3 (Conv2D)        (None, None, None, 512)   2359808   \n",
      "_________________________________________________________________\n",
      "block4_pool (MaxPooling2D)   (None, None, None, 512)   0         \n",
      "_________________________________________________________________\n",
      "block5_conv1 (Conv2D)        (None, None, None, 512)   2359808   \n",
      "_________________________________________________________________\n",
      "block5_conv2 (Conv2D)        (None, None, None, 512)   2359808   \n",
      "_________________________________________________________________\n",
      "block5_conv3 (Conv2D)        (None, None, None, 512)   2359808   \n",
      "_________________________________________________________________\n",
      "block5_pool (MaxPooling2D)   (None, None, None, 512)   0         \n",
      "=================================================================\n",
      "Total params: 14,714,688\n",
      "Trainable params: 14,714,688\n",
      "Non-trainable params: 0\n",
      "_________________________________________________________________\n",
      "Model: \"sequential\"\n",
      "_________________________________________________________________\n",
      "Layer (type)                 Output Shape              Param #   \n",
      "=================================================================\n",
      "vgg16 (Functional)           (None, None, None, 512)   14714688  \n",
      "_________________________________________________________________\n",
      "global_average_pooling2d (Gl (None, 512)               0         \n",
      "_________________________________________________________________\n",
      "dense (Dense)                (None, 4096)              2101248   \n",
      "_________________________________________________________________\n",
      "dense_1 (Dense)              (None, 1000)              4097000   \n",
      "_________________________________________________________________\n",
      "dense_2 (Dense)              (None, 3)                 3003      \n",
      "=================================================================\n",
      "Total params: 20,915,939\n",
      "Trainable params: 6,201,251\n",
      "Non-trainable params: 14,714,688\n",
      "_________________________________________________________________\n"
     ]
    }
   ],
   "source": [
    "model = vgg16_pretrained()\n",
    "model.summary()"
   ]
  },
  {
   "cell_type": "code",
   "execution_count": 9,
   "metadata": {
    "id": "38ZZzkDB3hHa",
    "outputId": "695bfeaf-3dad-46a4-a576-2f9095ac2293"
   },
   "outputs": [
    {
     "name": "stdout",
     "output_type": "stream",
     "text": [
      "Epoch 1/100\n",
      "22/22 [==============================] - 62s 3s/step - loss: 7.0276 - accuracy: 0.5268 - val_loss: 1.0781 - val_accuracy: 0.5380\n",
      "Epoch 2/100\n",
      "22/22 [==============================] - 63s 3s/step - loss: 0.2434 - accuracy: 0.9017 - val_loss: 1.3191 - val_accuracy: 0.4737\n",
      "Epoch 3/100\n",
      "22/22 [==============================] - 63s 3s/step - loss: 0.1788 - accuracy: 0.9288 - val_loss: 0.8555 - val_accuracy: 0.6784\n",
      "Epoch 4/100\n",
      "22/22 [==============================] - 64s 3s/step - loss: 0.1570 - accuracy: 0.9497 - val_loss: 0.6800 - val_accuracy: 0.7544\n",
      "Epoch 5/100\n",
      "22/22 [==============================] - 64s 3s/step - loss: 0.1240 - accuracy: 0.9540 - val_loss: 0.6769 - val_accuracy: 0.7368\n",
      "Epoch 6/100\n",
      "22/22 [==============================] - 67s 3s/step - loss: 0.0886 - accuracy: 0.9655 - val_loss: 0.7308 - val_accuracy: 0.7602\n",
      "Epoch 7/100\n",
      "22/22 [==============================] - 67s 3s/step - loss: 0.0585 - accuracy: 0.9843 - val_loss: 0.7542 - val_accuracy: 0.7368\n",
      "Epoch 8/100\n",
      "22/22 [==============================] - 68s 3s/step - loss: 0.0761 - accuracy: 0.9647 - val_loss: 0.7842 - val_accuracy: 0.7661\n",
      "Epoch 9/100\n",
      "22/22 [==============================] - 69s 3s/step - loss: 0.0616 - accuracy: 0.9774 - val_loss: 0.7736 - val_accuracy: 0.7602\n",
      "Epoch 10/100\n",
      "22/22 [==============================] - 69s 3s/step - loss: 0.0439 - accuracy: 0.9871 - val_loss: 0.8611 - val_accuracy: 0.7251\n",
      "Epoch 11/100\n",
      "22/22 [==============================] - 70s 3s/step - loss: 0.0333 - accuracy: 0.9886 - val_loss: 0.8386 - val_accuracy: 0.7661\n",
      "Epoch 12/100\n",
      "22/22 [==============================] - 71s 3s/step - loss: 0.0322 - accuracy: 0.9864 - val_loss: 0.7251 - val_accuracy: 0.7661\n",
      "Epoch 13/100\n",
      "22/22 [==============================] - 71s 3s/step - loss: 0.0376 - accuracy: 0.9758 - val_loss: 0.7347 - val_accuracy: 0.7895\n",
      "Epoch 14/100\n",
      "22/22 [==============================] - 71s 3s/step - loss: 0.0249 - accuracy: 0.9958 - val_loss: 0.7149 - val_accuracy: 0.7778\n",
      "Epoch 15/100\n",
      "22/22 [==============================] - 72s 3s/step - loss: 0.0369 - accuracy: 0.9842 - val_loss: 0.7869 - val_accuracy: 0.7485\n",
      "Epoch 16/100\n",
      "22/22 [==============================] - 73s 3s/step - loss: 0.0243 - accuracy: 0.9950 - val_loss: 0.8278 - val_accuracy: 0.7719\n",
      "Epoch 17/100\n",
      "22/22 [==============================] - 73s 3s/step - loss: 0.0187 - accuracy: 0.9947 - val_loss: 0.8472 - val_accuracy: 0.7661\n",
      "Epoch 18/100\n",
      "22/22 [==============================] - 72s 3s/step - loss: 0.0238 - accuracy: 0.9940 - val_loss: 0.8639 - val_accuracy: 0.7427\n",
      "Epoch 19/100\n",
      "22/22 [==============================] - 74s 3s/step - loss: 0.0254 - accuracy: 0.9922 - val_loss: 0.7602 - val_accuracy: 0.7485\n",
      "Epoch 20/100\n",
      "22/22 [==============================] - 73s 3s/step - loss: 0.0196 - accuracy: 0.9911 - val_loss: 0.8649 - val_accuracy: 0.7193\n",
      "Epoch 21/100\n",
      "22/22 [==============================] - 73s 3s/step - loss: 0.0357 - accuracy: 0.9937 - val_loss: 0.8150 - val_accuracy: 0.7251\n",
      "Epoch 22/100\n",
      "22/22 [==============================] - 73s 3s/step - loss: 0.0240 - accuracy: 0.9926 - val_loss: 0.8092 - val_accuracy: 0.7544\n",
      "Epoch 23/100\n",
      "22/22 [==============================] - 73s 3s/step - loss: 0.0187 - accuracy: 0.9952 - val_loss: 0.9686 - val_accuracy: 0.7135\n",
      "Epoch 24/100\n",
      "22/22 [==============================] - 74s 3s/step - loss: 0.0232 - accuracy: 0.9937 - val_loss: 0.7697 - val_accuracy: 0.7836\n",
      "Epoch 25/100\n",
      "22/22 [==============================] - 73s 3s/step - loss: 0.0200 - accuracy: 0.9962 - val_loss: 0.8214 - val_accuracy: 0.7310\n"
     ]
    }
   ],
   "source": [
    "history = model.fit(train_generator, epochs = NUM_EPOCHS, \\\n",
    "          verbose = 1, callbacks= [early_stop, monitor, lr_schedule],validation_data=(validation_generator))"
   ]
  },
  {
   "cell_type": "code",
   "execution_count": 10,
   "metadata": {
    "id": "Nr0JZ2EH3hHc"
   },
   "outputs": [],
   "source": [
    "def plot_history( H, NUM_EPOCHS ):\n",
    "    plt.style.use(\"ggplot\")\n",
    "    fig = plt.figure()\n",
    "    fig.set_size_inches(15, 5)\n",
    "    fig.add_subplot(1, 3, 1)\n",
    "    plt.plot(np.arange(0, NUM_EPOCHS), H.history[\"loss\"], label=\"train_loss\")\n",
    "    plt.plot(np.arange(0, NUM_EPOCHS), H.history[\"val_loss\"], label=\"val_loss\")\n",
    "    plt.title(\"Training Loss and Validation Loss on Dataset\")\n",
    "    plt.xlabel(\"Epoch #\")\n",
    "    plt.ylabel(\"Loss\")\n",
    "    plt.legend(loc=\"lower left\")\n",
    "    fig.add_subplot(1, 3, 2)\n",
    "    plt.plot(np.arange(0, NUM_EPOCHS), H.history[\"loss\"], label=\"train_loss\")\n",
    "    plt.plot(np.arange(0, NUM_EPOCHS), H.history[\"accuracy\"], label=\"train_acc\")\n",
    "    plt.title(\"Training Loss and Accuracy on Dataset\")\n",
    "    plt.xlabel(\"Epoch #\")\n",
    "    plt.ylabel(\"Loss/Accuracy\")\n",
    "    plt.legend(loc=\"lower left\")\n",
    "    fig.add_subplot(1, 3, 3)\n",
    "    plt.plot(np.arange(0, NUM_EPOCHS), H.history[\"val_loss\"], label=\"val_loss\")\n",
    "    plt.plot(np.arange(0, NUM_EPOCHS), H.history[\"val_accuracy\"], label=\"val_acc\")\n",
    "    plt.title(\"Validation Loss and Accuracy on Dataset\")\n",
    "    plt.xlabel(\"Epoch #\")\n",
    "    plt.ylabel(\"Loss/Accuracy\")\n",
    "    plt.legend(loc=\"lower left\")\n",
    "    plt.show()"
   ]
  },
  {
   "cell_type": "code",
   "execution_count": 12,
   "metadata": {},
   "outputs": [
    {
     "data": {
      "image/png": "[encoded data removed]",
      "text/plain": [
       "<Figure size 1080x360 with 3 Axes>"
      ]
     },
     "metadata": {},
     "output_type": "display_data"
    }
   ],
   "source": [
    "plot_history(history,25)"
   ]
  },
  {
   "cell_type": "code",
   "execution_count": null,
   "metadata": {},
   "outputs": [],
   "source": []
  }
 ],
 "metadata": {
  "colab": {
   "name": "model_test-Copy1.ipynb",
   "provenance": []
  },
  "kernelspec": {
   "display_name": "Python 3",
   "language": "python",
   "name": "python3"
  },
  "language_info": {
   "codemirror_mode": {
    "name": "ipython",
    "version": 3
   },
   "file_extension": ".py",
   "mimetype": "text/x-python",
   "name": "python",
   "nbconvert_exporter": "python",
   "pygments_lexer": "ipython3",
   "version": "3.8.5"
  }
 },
 "nbformat": 4,
 "nbformat_minor": 1
}
