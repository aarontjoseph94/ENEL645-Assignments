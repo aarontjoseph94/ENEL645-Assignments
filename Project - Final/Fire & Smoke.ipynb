{
 "cells": [
  {
   "cell_type": "markdown",
   "metadata": {},
   "source": [
    "# Project Finals"
   ]
  },
  {
   "cell_type": "code",
   "execution_count": 1,
   "metadata": {},
   "outputs": [],
   "source": [
    "# Import additional libraries if you need\n",
    "%matplotlib inline\n",
    "import numpy as np\n",
    "import matplotlib.pylab as plt\n",
    "import tensorflow as tf\n",
    "from tensorflow.keras.models import *\n",
    "from tensorflow.keras.layers import *\n",
    "from tensorflow.keras.preprocessing.image import ImageDataGenerator\n",
    "from tensorflow.keras.applications.resnet50 import preprocess_input\n",
    "from tensorflow.keras.optimizers import *\n",
    "from tensorflow.keras.applications import VGG16\n",
    "from tensorflow.keras.applications import ResNet50\n",
    "\n",
    "# physical_devices = tf.config.experimental.list_physical_devices('GPU')\n",
    "# tf.config.experimental.set_memory_growth(physical_devices[0], True)"
   ]
  },
  {
   "cell_type": "code",
   "execution_count": 2,
   "metadata": {},
   "outputs": [],
   "source": [
    "IMG_SIZE = 224\n",
    "NUM_EPOCHS = 100\n",
    "NUM_CLASSES = 3\n",
    "TRAIN_BATCH_SIZE = 32\n",
    "TEST_BATCH_SIZE = 32"
   ]
  },
  {
   "cell_type": "code",
   "execution_count": 3,
   "metadata": {},
   "outputs": [
    {
     "name": "stdout",
     "output_type": "stream",
     "text": [
      "Found 2700 images belonging to 3 classes.\n",
      "Found 300 images belonging to 3 classes.\n"
     ]
    }
   ],
   "source": [
    "data_generator_with_aug = ImageDataGenerator(preprocessing_function=preprocess_input,\n",
    "                                width_shift_range=0.1,\n",
    "                                height_shift_range=0.1,\n",
    "                                #sear_range=0.01,\n",
    "                                zoom_range=[0.9, 1.25],\n",
    "                                horizontal_flip=True,\n",
    "                                vertical_flip=False,\n",
    "                                data_format='channels_last',\n",
    "                                brightness_range=[0.5, 1.5]\n",
    "                               )\n",
    "                                       \n",
    "train_generator = data_generator_with_aug.flow_from_directory(\n",
    "            'FIRE-SMOKE-DATASET/Train',\n",
    "            target_size=(IMG_SIZE, IMG_SIZE),\n",
    "            batch_size=TRAIN_BATCH_SIZE,\n",
    "            class_mode='categorical')\n",
    "    \n",
    "   \n",
    "validation_generator = data_generator_with_aug.flow_from_directory(\n",
    "            'FIRE-SMOKE-DATASET/Test',\n",
    "            target_size=(IMG_SIZE, IMG_SIZE),\n",
    "            batch_size=TEST_BATCH_SIZE,\n",
    "            shuffle = False,\n",
    "            class_mode='categorical')"
   ]
  },
  {
   "cell_type": "code",
   "execution_count": 4,
   "metadata": {},
   "outputs": [],
   "source": [
    "model_name_vgg16 = \"vgg16.h5\"\n",
    "\n",
    "# define your callbacks\n",
    "# remember that you need to save the weights of your best model!\n",
    "early_stop = tf.keras.callbacks.EarlyStopping(monitor='val_loss', patience = 20)\n",
    "\n",
    "monitor = tf.keras.callbacks.ModelCheckpoint(model_name_vgg16, monitor='val_loss',\\\n",
    "                                             verbose=0,save_best_only=True,\\\n",
    "                                             save_weights_only=True,\\\n",
    "                                             mode='min')\n",
    "# Learning rate schedule\n",
    "def scheduler(epoch, lr):\n",
    "    if epoch%4 == 0 and epoch!= 0:\n",
    "        lr = lr/2\n",
    "    return lr\n",
    "\n",
    "lr_schedule = tf.keras.callbacks.LearningRateScheduler(scheduler,verbose = 0)"
   ]
  },
  {
   "cell_type": "code",
   "execution_count": 5,
   "metadata": {},
   "outputs": [],
   "source": [
    "def vgg16_pretrained(lr=1e-3):\n",
    "    my_new_model = Sequential()\n",
    "    vgg_weights_path = 'vgg16_weights_tf_dim_ordering_tf_kernels_notop.h5'\n",
    "    vgg= VGG16(include_top=False, weights=vgg_weights_path ) \n",
    "    vgg.summary()\n",
    "    my_new_model.add(vgg)\n",
    "    my_new_model.add(GlobalAveragePooling2D())\n",
    "    my_new_model.layers[0].trainable = False\n",
    "    my_new_model.layers[1].trainable = False\n",
    "    #my_new_model.add(Dense(4096, activation='relu'))  \n",
    "    my_new_model.add(Dense(4096, activation='relu'))\n",
    "    my_new_model.add(Dense(1000, activation='relu'))      \n",
    "    my_new_model.add(Dense(NUM_CLASSES, activation='softmax'))\n",
    "    my_new_model.compile(optimizer = Adam(learning_rate=lr), loss='categorical_crossentropy', metrics = [\"accuracy\"])\n",
    "    return my_new_model"
   ]
  },
  {
   "cell_type": "code",
   "execution_count": 6,
   "metadata": {},
   "outputs": [],
   "source": [
    "def resnet50_pretrained(lr=1e-3):\n",
    "    my_new_model = Sequential()\n",
    "    \n",
    "    resnet = ResNet50(include_top=False, pooling='avg', weights=resnet_weights_path)\n",
    "    my_new_model.add(resnet)\n",
    "    my_new_model.layers[0].trainable = False\n",
    "    my_new_model.add(Dense(1000, activation='relu'))      \n",
    "    my_new_model.add(Dense(NUM_CLASSES, activation='softmax'))"
   ]
  },
  {
   "cell_type": "code",
   "execution_count": 7,
   "metadata": {},
   "outputs": [],
   "source": [
    "def vgg16(ishape=(IMG_SIZE,IMG_SIZE,3), drop=0.1, lr=1e-3):\n",
    "    out_layers = 64\n",
    "    input_img = Input(shape=ishape)\n",
    "    x = Conv2D(out_layers, (3,3), activation=\"relu\", padding=\"same\")(input_img)\n",
    "    x = Conv2D(out_layers, (3,3), activation=\"relu\", padding=\"same\")(x)\n",
    "    x = MaxPooling2D()(x)\n",
    "    x = Conv2D(out_layers*2, (3,3), activation=\"relu\", padding=\"same\")(x)\n",
    "    x = Conv2D(out_layers*2, (3,3), activation=\"relu\", padding=\"same\")(x)\n",
    "    x = MaxPooling2D()(x)\n",
    "    x = Conv2D(out_layers*4, (3,3), activation=\"relu\", padding=\"same\")(x)\n",
    "    x = Conv2D(out_layers*4, (3,3), activation=\"relu\", padding=\"same\")(x)\n",
    "    x = Conv2D(out_layers*4, (3,3), activation=\"relu\", padding=\"same\")(x)\n",
    "    x = MaxPooling2D()(x)\n",
    "    x = Conv2D(out_layers*8, (3,3), activation=\"relu\", padding=\"same\")(x)\n",
    "    x = Conv2D(out_layers*8, (3,3), activation=\"relu\", padding=\"same\")(x)\n",
    "    x = Conv2D(out_layers*8, (3,3), activation=\"relu\", padding=\"same\")(x)\n",
    "    x = MaxPooling2D()(x)\n",
    "    x = Conv2D(out_layers*8, (3,3), activation=\"relu\", padding=\"same\")(x)\n",
    "    x = Conv2D(out_layers*8, (3,3), activation=\"relu\", padding=\"same\")(x)\n",
    "    x = Conv2D(out_layers*8, (3,3), activation=\"relu\", padding=\"same\")(x)\n",
    "    x = MaxPooling2D()(x)\n",
    "    x = GlobalMaxPooling2D()(x)\n",
    "    #x = Dense(4096, activation=\"relu\")(x)\n",
    "    x = Dropout(rate=drop)(x)\n",
    "    x = Dense(4096, activation=\"relu\")(x)\n",
    "    x = Dropout(rate=drop)(x)\n",
    "    x = Dense(1000, activation=\"relu\")(x)\n",
    "    x = Dropout(rate=drop)(x)\n",
    "    x = Dense(NUM_CLASSES, activation=\"softmax\")(x)\n",
    "    model = Model(inputs=input_img, outputs=x)\n",
    "    model.compile(optimizer = Adam(learning_rate=lr), loss='categorical_crossentropy', metrics = [\"accuracy\"])\n",
    "    return model"
   ]
  },
  {
   "cell_type": "code",
   "execution_count": 8,
   "metadata": {},
   "outputs": [
    {
     "name": "stdout",
     "output_type": "stream",
     "text": [
      "Model: \"vgg16\"\n",
      "_________________________________________________________________\n",
      "Layer (type)                 Output Shape              Param #   \n",
      "=================================================================\n",
      "input_1 (InputLayer)         [(None, None, None, 3)]   0         \n",
      "_________________________________________________________________\n",
      "block1_conv1 (Conv2D)        (None, None, None, 64)    1792      \n",
      "_________________________________________________________________\n",
      "block1_conv2 (Conv2D)        (None, None, None, 64)    36928     \n",
      "_________________________________________________________________\n",
      "block1_pool (MaxPooling2D)   (None, None, None, 64)    0         \n",
      "_________________________________________________________________\n",
      "block2_conv1 (Conv2D)        (None, None, None, 128)   73856     \n",
      "_________________________________________________________________\n",
      "block2_conv2 (Conv2D)        (None, None, None, 128)   147584    \n",
      "_________________________________________________________________\n",
      "block2_pool (MaxPooling2D)   (None, None, None, 128)   0         \n",
      "_________________________________________________________________\n",
      "block3_conv1 (Conv2D)        (None, None, None, 256)   295168    \n",
      "_________________________________________________________________\n",
      "block3_conv2 (Conv2D)        (None, None, None, 256)   590080    \n",
      "_________________________________________________________________\n",
      "block3_conv3 (Conv2D)        (None, None, None, 256)   590080    \n",
      "_________________________________________________________________\n",
      "block3_pool (MaxPooling2D)   (None, None, None, 256)   0         \n",
      "_________________________________________________________________\n",
      "block4_conv1 (Conv2D)        (None, None, None, 512)   1180160   \n",
      "_________________________________________________________________\n",
      "block4_conv2 (Conv2D)        (None, None, None, 512)   2359808   \n",
      "_________________________________________________________________\n",
      "block4_conv3 (Conv2D)        (None, None, None, 512)   2359808   \n",
      "_________________________________________________________________\n",
      "block4_pool (MaxPooling2D)   (None, None, None, 512)   0         \n",
      "_________________________________________________________________\n",
      "block5_conv1 (Conv2D)        (None, None, None, 512)   2359808   \n",
      "_________________________________________________________________\n",
      "block5_conv2 (Conv2D)        (None, None, None, 512)   2359808   \n",
      "_________________________________________________________________\n",
      "block5_conv3 (Conv2D)        (None, None, None, 512)   2359808   \n",
      "_________________________________________________________________\n",
      "block5_pool (MaxPooling2D)   (None, None, None, 512)   0         \n",
      "=================================================================\n",
      "Total params: 14,714,688\n",
      "Trainable params: 14,714,688\n",
      "Non-trainable params: 0\n",
      "_________________________________________________________________\n",
      "Model: \"sequential\"\n",
      "_________________________________________________________________\n",
      "Layer (type)                 Output Shape              Param #   \n",
      "=================================================================\n",
      "vgg16 (Functional)           (None, None, None, 512)   14714688  \n",
      "_________________________________________________________________\n",
      "global_average_pooling2d (Gl (None, 512)               0         \n",
      "_________________________________________________________________\n",
      "dense (Dense)                (None, 4096)              2101248   \n",
      "_________________________________________________________________\n",
      "dense_1 (Dense)              (None, 1000)              4097000   \n",
      "_________________________________________________________________\n",
      "dense_2 (Dense)              (None, 3)                 3003      \n",
      "=================================================================\n",
      "Total params: 20,915,939\n",
      "Trainable params: 6,201,251\n",
      "Non-trainable params: 14,714,688\n",
      "_________________________________________________________________\n"
     ]
    }
   ],
   "source": [
    "model = vgg16_pretrained()\n",
    "model.summary()"
   ]
  },
  {
   "cell_type": "code",
   "execution_count": 9,
   "metadata": {},
   "outputs": [
    {
     "name": "stdout",
     "output_type": "stream",
     "text": [
      "Epoch 1/100\n",
      "85/85 [==============================] - 249s 3s/step - loss: 4.0118 - accuracy: 0.7003 - val_loss: 0.3157 - val_accuracy: 0.9000\n",
      "Epoch 2/100\n",
      "85/85 [==============================] - 249s 3s/step - loss: 0.1544 - accuracy: 0.9492 - val_loss: 0.3131 - val_accuracy: 0.9067\n",
      "Epoch 3/100\n",
      "85/85 [==============================] - 246s 3s/step - loss: 0.1429 - accuracy: 0.9483 - val_loss: 0.2837 - val_accuracy: 0.9300\n",
      "Epoch 4/100\n",
      "85/85 [==============================] - 240s 3s/step - loss: 0.1227 - accuracy: 0.9613 - val_loss: 0.3313 - val_accuracy: 0.8900\n",
      "Epoch 5/100\n",
      "85/85 [==============================] - 239s 3s/step - loss: 0.1006 - accuracy: 0.9614 - val_loss: 0.2933 - val_accuracy: 0.9167\n",
      "Epoch 6/100\n",
      "85/85 [==============================] - 240s 3s/step - loss: 0.0660 - accuracy: 0.9763 - val_loss: 0.3547 - val_accuracy: 0.9200\n",
      "Epoch 7/100\n",
      "85/85 [==============================] - 240s 3s/step - loss: 0.0492 - accuracy: 0.9829 - val_loss: 0.3845 - val_accuracy: 0.9133\n",
      "Epoch 8/100\n",
      "85/85 [==============================] - 240s 3s/step - loss: 0.0753 - accuracy: 0.9759 - val_loss: 0.3809 - val_accuracy: 0.8933\n",
      "Epoch 9/100\n",
      "85/85 [==============================] - 240s 3s/step - loss: 0.0494 - accuracy: 0.9839 - val_loss: 0.3125 - val_accuracy: 0.9167\n",
      "Epoch 10/100\n",
      "85/85 [==============================] - 248s 3s/step - loss: 0.0392 - accuracy: 0.9879 - val_loss: 0.3649 - val_accuracy: 0.9100\n",
      "Epoch 11/100\n",
      "85/85 [==============================] - 251s 3s/step - loss: 0.0247 - accuracy: 0.9916 - val_loss: 0.3987 - val_accuracy: 0.9100\n",
      "Epoch 12/100\n",
      "85/85 [==============================] - 247s 3s/step - loss: 0.0280 - accuracy: 0.9936 - val_loss: 0.4722 - val_accuracy: 0.8833\n",
      "Epoch 13/100\n",
      "85/85 [==============================] - 251s 3s/step - loss: 0.0207 - accuracy: 0.9926 - val_loss: 0.4969 - val_accuracy: 0.8900\n",
      "Epoch 14/100\n",
      "85/85 [==============================] - 251s 3s/step - loss: 0.0197 - accuracy: 0.9925 - val_loss: 0.4463 - val_accuracy: 0.9100\n",
      "Epoch 15/100\n",
      "85/85 [==============================] - 248s 3s/step - loss: 0.0103 - accuracy: 0.9955 - val_loss: 0.5042 - val_accuracy: 0.8933\n",
      "Epoch 16/100\n",
      "85/85 [==============================] - 247s 3s/step - loss: 0.0117 - accuracy: 0.9983 - val_loss: 0.4428 - val_accuracy: 0.8933\n",
      "Epoch 17/100\n",
      "85/85 [==============================] - 256s 3s/step - loss: 0.0104 - accuracy: 0.9961 - val_loss: 0.3458 - val_accuracy: 0.9067\n",
      "Epoch 18/100\n",
      "85/85 [==============================] - 253s 3s/step - loss: 0.0102 - accuracy: 0.9974 - val_loss: 0.4315 - val_accuracy: 0.9100\n",
      "Epoch 19/100\n",
      "85/85 [==============================] - 246s 3s/step - loss: 0.0106 - accuracy: 0.9968 - val_loss: 0.4913 - val_accuracy: 0.9067\n",
      "Epoch 20/100\n",
      "85/85 [==============================] - 245s 3s/step - loss: 0.0152 - accuracy: 0.9944 - val_loss: 0.4338 - val_accuracy: 0.9233\n",
      "Epoch 21/100\n",
      "85/85 [==============================] - 248s 3s/step - loss: 0.0092 - accuracy: 0.9976 - val_loss: 0.4333 - val_accuracy: 0.9200\n",
      "Epoch 22/100\n",
      "85/85 [==============================] - 247s 3s/step - loss: 0.0116 - accuracy: 0.9965 - val_loss: 0.4554 - val_accuracy: 0.8967\n",
      "Epoch 23/100\n",
      "85/85 [==============================] - 248s 3s/step - loss: 0.0110 - accuracy: 0.9959 - val_loss: 0.4357 - val_accuracy: 0.8967\n"
     ]
    }
   ],
   "source": [
    "history = model.fit(train_generator, epochs = NUM_EPOCHS, \\\n",
    "          verbose = 1, callbacks= [early_stop, monitor, lr_schedule],validation_data=(validation_generator))"
   ]
  },
  {
   "cell_type": "code",
   "execution_count": 10,
   "metadata": {},
   "outputs": [],
   "source": [
    "def plot_history( H, NUM_EPOCHS ):\n",
    "    plt.style.use(\"ggplot\")\n",
    "    fig = plt.figure()\n",
    "    fig.set_size_inches(15, 5)\n",
    "    fig.add_subplot(1, 3, 1)\n",
    "    plt.plot(np.arange(0, NUM_EPOCHS), H.history[\"loss\"], label=\"train_loss\")\n",
    "    plt.plot(np.arange(0, NUM_EPOCHS), H.history[\"val_loss\"], label=\"val_loss\")\n",
    "    plt.title(\"Training Loss and Validation Loss on Dataset\")\n",
    "    plt.xlabel(\"Epoch #\")\n",
    "    plt.ylabel(\"Loss\")\n",
    "    plt.legend(loc=\"lower left\")\n",
    "    fig.add_subplot(1, 3, 2)\n",
    "    plt.plot(np.arange(0, NUM_EPOCHS), H.history[\"loss\"], label=\"train_loss\")\n",
    "    plt.plot(np.arange(0, NUM_EPOCHS), H.history[\"accuracy\"], label=\"train_acc\")\n",
    "    plt.title(\"Training Loss and Accuracy on Dataset\")\n",
    "    plt.xlabel(\"Epoch #\")\n",
    "    plt.ylabel(\"Loss/Accuracy\")\n",
    "    plt.legend(loc=\"lower left\")\n",
    "    fig.add_subplot(1, 3, 3)\n",
    "    plt.plot(np.arange(0, NUM_EPOCHS), H.history[\"val_loss\"], label=\"val_loss\")\n",
    "    plt.plot(np.arange(0, NUM_EPOCHS), H.history[\"val_accuracy\"], label=\"val_acc\")\n",
    "    plt.title(\"Validation Loss and Accuracy on Dataset\")\n",
    "    plt.xlabel(\"Epoch #\")\n",
    "    plt.ylabel(\"Loss/Accuracy\")\n",
    "    plt.legend(loc=\"lower left\")\n",
    "    plt.show()"
   ]
  },
  {
   "cell_type": "code",
   "execution_count": 12,
   "metadata": {},
   "outputs": [
    {
     "data": {
      "image/png": "[encoded data removed]",
      "text/plain": [
       "<Figure size 1080x360 with 3 Axes>"
      ]
     },
     "metadata": {},
     "output_type": "display_data"
    }
   ],
   "source": [
    "plot_history(history,23)"
   ]
  }
 ],
 "metadata": {
  "kernelspec": {
   "display_name": "Python 3",
   "language": "python",
   "name": "python3"
  },
  "language_info": {
   "codemirror_mode": {
    "name": "ipython",
    "version": 3
   },
   "file_extension": ".py",
   "mimetype": "text/x-python",
   "name": "python",
   "nbconvert_exporter": "python",
   "pygments_lexer": "ipython3",
   "version": "3.7.9"
  }
 },
 "nbformat": 4,
 "nbformat_minor": 2
}
